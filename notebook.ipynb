{
 "metadata": {
  "language_info": {
   "codemirror_mode": {
    "name": "ipython",
    "version": 3
   },
   "file_extension": ".py",
   "mimetype": "text/x-python",
   "name": "python",
   "nbconvert_exporter": "python",
   "pygments_lexer": "ipython3",
   "version": "3.9.0-final"
  },
  "orig_nbformat": 2,
  "kernelspec": {
   "name": "python3",
   "display_name": "Python 3",
   "language": "python"
  }
 },
 "nbformat": 4,
 "nbformat_minor": 2,
 "cells": [
  {
   "cell_type": "code",
   "execution_count": 11,
   "metadata": {},
   "outputs": [],
   "source": [
    "Map = ['000000000000000000000000000000000000000',\n",
    "                        '0                                     0',\n",
    "                        '0                                     0',\n",
    "                        '0  #   #   ###   #   #  #####  #   #  0',\n",
    "                        '0  #  #   #   #  #   #  #      #   #  0',\n",
    "                        '0  ###    #   #  #####  ####   #   #  0',\n",
    "                        '0  #  #   #   #  #   #  #      #   #  0',\n",
    "                        '0  #   #   ###   #   #  #####  #####  0',\n",
    "                        '0                                   # 0',\n",
    "                        '0                                     0',\n",
    "                        '000000000000000000000000000000000000000'\n",
    "                        ]\n",
    "                        "
   ]
  },
  {
   "cell_type": "code",
   "execution_count": 12,
   "metadata": {},
   "outputs": [],
   "source": [
    "Map = list(map(list, Map))\n",
    "for i in Map:\n",
    "    for j in range(len(i)):\n",
    "        if i[j] == '0':\n",
    "            i[j] = 0 + random.randint(0,7)\n",
    "        elif i[j] == '#':\n",
    "            i[j] = 10 + random.randint(0,7)\n",
    "        else:\n",
    "            i[j] = 20 + random.randint(0,7)"
   ]
  },
  {
   "cell_type": "code",
   "execution_count": 13,
   "metadata": {},
   "outputs": [
    {
     "output_type": "stream",
     "name": "stdout",
     "text": [
      "- - 5\n  - 4\n  - 4\n  - 6\n  - 5\n  - 0\n  - 1\n  - 4\n  - 7\n  - 5\n  - 5\n  - 0\n  - 3\n  - 3\n  - 3\n  - 2\n  - 1\n  - 4\n  - 5\n  - 4\n  - 3\n  - 2\n  - 5\n  - 6\n  - 5\n  - 2\n  - 2\n  - 7\n  - 4\n  - 3\n  - 0\n  - 4\n  - 6\n  - 2\n  - 7\n  - 3\n  - 2\n  - 2\n  - 7\n- - 1\n  - 23\n  - 21\n  - 21\n  - 24\n  - 23\n  - 25\n  - 22\n  - 20\n  - 20\n  - 24\n  - 27\n  - 25\n  - 23\n  - 26\n  - 22\n  - 24\n  - 24\n  - 26\n  - 26\n  - 20\n  - 21\n  - 21\n  - 22\n  - 26\n  - 27\n  - 26\n  - 27\n  - 21\n  - 25\n  - 27\n  - 21\n  - 21\n  - 22\n  - 23\n  - 21\n  - 22\n  - 27\n  - 0\n- - 3\n  - 25\n  - 23\n  - 23\n  - 27\n  - 27\n  - 26\n  - 20\n  - 27\n  - 24\n  - 26\n  - 26\n  - 25\n  - 26\n  - 20\n  - 25\n  - 20\n  - 25\n  - 25\n  - 22\n  - 27\n  - 27\n  - 22\n  - 22\n  - 25\n  - 24\n  - 27\n  - 26\n  - 22\n  - 27\n  - 20\n  - 21\n  - 22\n  - 27\n  - 24\n  - 26\n  - 26\n  - 25\n  - 0\n- - 7\n  - 22\n  - 25\n  - 11\n  - 25\n  - 21\n  - 26\n  - 11\n  - 25\n  - 21\n  - 20\n  - 17\n  - 15\n  - 11\n  - 25\n  - 20\n  - 21\n  - 13\n  - 23\n  - 24\n  - 25\n  - 14\n  - 20\n  - 25\n  - 12\n  - 12\n  - 14\n  - 14\n  - 15\n  - 22\n  - 24\n  - 14\n  - 22\n  - 21\n  - 26\n  - 10\n  - 20\n  - 23\n  - 4\n- - 4\n  - 24\n  - 26\n  - 12\n  - 20\n  - 25\n  - 14\n  - 20\n  - 23\n  - 24\n  - 17\n  - 21\n  - 25\n  - 27\n  - 13\n  - 26\n  - 20\n  - 10\n  - 24\n  - 20\n  - 25\n  - 14\n  - 21\n  - 24\n  - 11\n  - 20\n  - 26\n  - 21\n  - 26\n  - 25\n  - 22\n  - 10\n  - 27\n  - 25\n  - 23\n  - 15\n  - 24\n  - 25\n  - 3\n- - 4\n  - 22\n  - 24\n  - 14\n  - 13\n  - 12\n  - 23\n  - 24\n  - 21\n  - 26\n  - 11\n  - 21\n  - 20\n  - 20\n  - 14\n  - 20\n  - 23\n  - 16\n  - 16\n  - 11\n  - 16\n  - 10\n  - 22\n  - 25\n  - 12\n  - 10\n  - 13\n  - 12\n  - 23\n  - 25\n  - 26\n  - 12\n  - 23\n  - 25\n  - 23\n  - 12\n  - 23\n  - 23\n  - 2\n- - 4\n  - 22\n  - 24\n  - 15\n  - 24\n  - 26\n  - 13\n  - 22\n  - 27\n  - 20\n  - 15\n  - 25\n  - 22\n  - 20\n  - 10\n  - 26\n  - 25\n  - 14\n  - 21\n  - 23\n  - 27\n  - 16\n  - 23\n  - 25\n  - 12\n  - 23\n  - 20\n  - 20\n  - 25\n  - 27\n  - 26\n  - 17\n  - 26\n  - 22\n  - 26\n  - 15\n  - 24\n  - 26\n  - 5\n- - 7\n  - 27\n  - 24\n  - 10\n  - 21\n  - 23\n  - 22\n  - 17\n  - 25\n  - 26\n  - 21\n  - 11\n  - 15\n  - 12\n  - 22\n  - 24\n  - 25\n  - 15\n  - 27\n  - 23\n  - 23\n  - 17\n  - 24\n  - 24\n  - 10\n  - 11\n  - 12\n  - 10\n  - 11\n  - 23\n  - 27\n  - 15\n  - 15\n  - 10\n  - 11\n  - 17\n  - 26\n  - 20\n  - 2\n- - 0\n  - 27\n  - 24\n  - 25\n  - 23\n  - 22\n  - 20\n  - 26\n  - 27\n  - 20\n  - 25\n  - 25\n  - 23\n  - 26\n  - 26\n  - 22\n  - 21\n  - 20\n  - 20\n  - 21\n  - 21\n  - 27\n  - 21\n  - 27\n  - 22\n  - 21\n  - 24\n  - 24\n  - 24\n  - 24\n  - 21\n  - 20\n  - 22\n  - 26\n  - 23\n  - 25\n  - 15\n  - 20\n  - 0\n- - 2\n  - 24\n  - 22\n  - 21\n  - 25\n  - 24\n  - 24\n  - 27\n  - 21\n  - 26\n  - 20\n  - 24\n  - 26\n  - 25\n  - 20\n  - 22\n  - 20\n  - 26\n  - 27\n  - 24\n  - 27\n  - 25\n  - 25\n  - 25\n  - 24\n  - 23\n  - 23\n  - 26\n  - 27\n  - 21\n  - 20\n  - 23\n  - 23\n  - 21\n  - 21\n  - 21\n  - 20\n  - 23\n  - 0\n- - 0\n  - 2\n  - 6\n  - 0\n  - 1\n  - 0\n  - 3\n  - 1\n  - 4\n  - 2\n  - 4\n  - 7\n  - 4\n  - 0\n  - 3\n  - 5\n  - 0\n  - 2\n  - 6\n  - 1\n  - 5\n  - 6\n  - 3\n  - 3\n  - 3\n  - 5\n  - 7\n  - 4\n  - 3\n  - 0\n  - 2\n  - 6\n  - 0\n  - 1\n  - 2\n  - 2\n  - 3\n  - 0\n  - 2\n\n"
     ]
    }
   ],
   "source": [
    "import yaml\n",
    "import random\n",
    "\n",
    "print(yaml.dump(Map))\n"
   ]
  },
  {
   "cell_type": "code",
   "execution_count": 25,
   "metadata": {},
   "outputs": [
    {
     "output_type": "execute_result",
     "data": {
      "text/plain": [
       "21"
      ]
     },
     "metadata": {},
     "execution_count": 25
    }
   ],
   "source": [
    "([0]+[20 + random.randint(0, 2) for _ in range(8) ])[random.randint(0, 8)]"
   ]
  },
  {
   "cell_type": "code",
   "execution_count": 2,
   "metadata": {},
   "outputs": [
    {
     "output_type": "error",
     "ename": "SyntaxError",
     "evalue": "'yield' outside function (<ipython-input-2-5c9a490d1e5f>, line 1)",
     "traceback": [
      "\u001b[1;36m  File \u001b[1;32m\"<ipython-input-2-5c9a490d1e5f>\"\u001b[1;36m, line \u001b[1;32m1\u001b[0m\n\u001b[1;33m    yield \"sdsd\"\u001b[0m\n\u001b[1;37m    ^\u001b[0m\n\u001b[1;31mSyntaxError\u001b[0m\u001b[1;31m:\u001b[0m 'yield' outside function\n"
     ]
    }
   ],
   "source": [
    "yield \"sdsd\""
   ]
  },
  {
   "cell_type": "code",
   "execution_count": null,
   "metadata": {},
   "outputs": [],
   "source": []
  }
 ]
}